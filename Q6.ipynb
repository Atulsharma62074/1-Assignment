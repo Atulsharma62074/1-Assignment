{
 "cells": [
  {
   "cell_type": "code",
   "execution_count": 2,
   "id": "a9fcf75b-949e-4c6b-8fe9-60e0eaa8f8bf",
   "metadata": {},
   "outputs": [],
   "source": [
    "l=[range(1,26)]"
   ]
  },
  {
   "cell_type": "code",
   "execution_count": 3,
   "id": "9d8d1331-51a0-4916-be4a-c9e53926983b",
   "metadata": {},
   "outputs": [
    {
     "data": {
      "text/plain": [
       "[range(1, 26)]"
      ]
     },
     "execution_count": 3,
     "metadata": {},
     "output_type": "execute_result"
    }
   ],
   "source": [
    "\n"
   ]
  },
  {
   "cell_type": "code",
   "execution_count": 4,
   "id": "44e31889-4a2e-446f-b98e-dbd75c2e7756",
   "metadata": {},
   "outputs": [
    {
     "name": "stdout",
     "output_type": "stream",
     "text": [
      "[range(1, 26)]\n"
     ]
    }
   ],
   "source": []
  },
  {
   "cell_type": "code",
   "execution_count": 5,
   "id": "12579469-ac6e-4bd0-9662-5d8feabd8b5a",
   "metadata": {},
   "outputs": [],
   "source": [
    "l=range(1,26)"
   ]
  },
  {
   "cell_type": "code",
   "execution_count": 9,
   "id": "be429739-89be-47fa-803e-fbf2457a6a8d",
   "metadata": {},
   "outputs": [
    {
     "name": "stdout",
     "output_type": "stream",
     "text": [
      "Element is not divided by 3\n",
      "Element is not divided by 3\n",
      "Element divided by 3\n",
      "Element is not divided by 3\n",
      "Element is not divided by 3\n",
      "Element divided by 3\n",
      "Element is not divided by 3\n",
      "Element is not divided by 3\n",
      "Element divided by 3\n",
      "Element is not divided by 3\n",
      "Element is not divided by 3\n",
      "Element divided by 3\n",
      "Element is not divided by 3\n",
      "Element is not divided by 3\n",
      "Element divided by 3\n",
      "Element is not divided by 3\n",
      "Element is not divided by 3\n",
      "Element divided by 3\n",
      "Element is not divided by 3\n",
      "Element is not divided by 3\n",
      "Element divided by 3\n",
      "Element is not divided by 3\n",
      "Element is not divided by 3\n",
      "Element divided by 3\n",
      "Element is not divided by 3\n"
     ]
    }
   ],
   "source": [
    "for i in l:\n",
    "    if(i%3==0):\n",
    "        print(\"Element divided by 3\")\n",
    "    else:\n",
    "        print(\"Element is not divided by 3\")\n"
   ]
  },
  {
   "cell_type": "code",
   "execution_count": null,
   "id": "cb2866ce-19a2-43d3-99a0-fe7627f54186",
   "metadata": {},
   "outputs": [],
   "source": []
  }
 ],
 "metadata": {
  "kernelspec": {
   "display_name": "Python 3 (ipykernel)",
   "language": "python",
   "name": "python3"
  },
  "language_info": {
   "codemirror_mode": {
    "name": "ipython",
    "version": 3
   },
   "file_extension": ".py",
   "mimetype": "text/x-python",
   "name": "python",
   "nbconvert_exporter": "python",
   "pygments_lexer": "ipython3",
   "version": "3.10.8"
  }
 },
 "nbformat": 4,
 "nbformat_minor": 5
}
