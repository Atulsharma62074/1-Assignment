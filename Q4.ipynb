{
 "cells": [
  {
   "cell_type": "code",
   "execution_count": 1,
   "id": "c2fbae7f-643c-4afd-a27a-d02081c6fa0d",
   "metadata": {},
   "outputs": [],
   "source": [
    "l=[1,'A',5,2.5,\"Atul\",52,89,5+5j,3,3.2]\n"
   ]
  },
  {
   "cell_type": "code",
   "execution_count": 2,
   "id": "bfb0a57e-7406-498b-a7e8-4f2e679910fb",
   "metadata": {},
   "outputs": [
    {
     "data": {
      "text/plain": [
       "[1, 'A', 5, 2.5, 'Atul', 52, 89, (5+5j), 3, 3.2]"
      ]
     },
     "execution_count": 2,
     "metadata": {},
     "output_type": "execute_result"
    }
   ],
   "source": [
    "l"
   ]
  },
  {
   "cell_type": "code",
   "execution_count": 11,
   "id": "45cc639c-4c8a-452e-849f-33e8434f8612",
   "metadata": {},
   "outputs": [
    {
     "name": "stdout",
     "output_type": "stream",
     "text": [
      "1\n",
      "<class 'int'>\n",
      "A\n",
      "<class 'str'>\n",
      "5\n",
      "<class 'int'>\n",
      "2.5\n",
      "<class 'float'>\n",
      "Atul\n",
      "<class 'str'>\n",
      "52\n",
      "<class 'int'>\n",
      "89\n",
      "<class 'int'>\n",
      "(5+5j)\n",
      "<class 'complex'>\n",
      "3\n",
      "<class 'int'>\n",
      "3.2\n",
      "<class 'float'>\n"
     ]
    }
   ],
   "source": [
    "for i in l:\n",
    "    print(i)\n",
    "    print(type(i))"
   ]
  },
  {
   "cell_type": "code",
   "execution_count": null,
   "id": "0f2aa2cd-95fb-4934-844d-23835751243f",
   "metadata": {},
   "outputs": [],
   "source": []
  },
  {
   "cell_type": "code",
   "execution_count": null,
   "id": "1d360b86-ed49-409e-ac83-0b675b095f6c",
   "metadata": {},
   "outputs": [],
   "source": []
  }
 ],
 "metadata": {
  "kernelspec": {
   "display_name": "Python 3 (ipykernel)",
   "language": "python",
   "name": "python3"
  },
  "language_info": {
   "codemirror_mode": {
    "name": "ipython",
    "version": 3
   },
   "file_extension": ".py",
   "mimetype": "text/x-python",
   "name": "python",
   "nbconvert_exporter": "python",
   "pygments_lexer": "ipython3",
   "version": "3.10.8"
  }
 },
 "nbformat": 4,
 "nbformat_minor": 5
}
